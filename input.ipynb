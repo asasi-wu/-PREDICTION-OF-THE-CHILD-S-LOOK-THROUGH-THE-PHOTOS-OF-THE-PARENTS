{
 "cells": [
  {
   "cell_type": "code",
   "execution_count": null,
   "metadata": {},
   "outputs": [],
   "source": [
    "'''\n",
    "Created on 2019.5.1\n",
    "\n",
    "@author: wujin\n",
    "'''\n",
    "import imghdr\n",
    "import os\n",
    "import tensorflow as tf\n",
    "\n",
    "\n",
    "def is_image_valid(filepath):\n",
    "    return imghdr.what(filepath) is not None\n",
    "\n",
    "\n",
    "def get_image_paths(image_dir):\n",
    "    image_paths = []\n",
    "    for root, directories, filenames in os.walk(image_dir):\n",
    "        image_paths += [os.path.join(root, filename) for filename in filenames]\n",
    "    image_paths = [filepath for filepath in image_paths if is_image_valid(filepath)]\n",
    "\n",
    "    return image_paths\n",
    "\n",
    "\n",
    "def inputs(image_dir, batch_size, min_queue_examples, input_height, input_width):\n",
    "    def read_images(image_paths):\n",
    "        filename_queue = tf.train.string_input_producer(image_paths)\n",
    "        reader = tf.WholeFileReader()\n",
    "        key, value = reader.read(filename_queue)\n",
    "        image = tf.image.decode_image(value)\n",
    "        image = tf.image.convert_image_dtype(image, dtype=tf.float32)\n",
    "        image.set_shape([None, None, 3])\n",
    "\n",
    "        return image\n",
    "\n",
    "    image_paths = get_image_paths(image_dir)\n",
    "    images = read_images(image_paths)\n",
    "    images = tf.image.crop_to_bounding_box(images, 30, 0, 178, 178)\n",
    "    # images = tf.image.random_flip_left_right(images)\n",
    "    images = tf.image.resize_images(images, [input_height, input_width])\n",
    "\n",
    "    total_image_count = len(image_paths)\n",
    "    input_batch = tf.train.shuffle_batch([images],\n",
    "                                         batch_size=batch_size,\n",
    "                                         num_threads=16,\n",
    "                                         capacity=min_queue_examples + 3 * batch_size,\n",
    "                                         min_after_dequeue=min_queue_examples)\n",
    "\n",
    "    return input_batch, total_image_count\n",
    "\n",
    "\n",
    "if __name__ == '__main__':\n",
    "    pass"
   ]
  }
 ],
 "metadata": {
  "kernelspec": {
   "display_name": "Python 3",
   "language": "python",
   "name": "python3"
  },
  "language_info": {
   "codemirror_mode": {
    "name": "ipython",
    "version": 3
   },
   "file_extension": ".py",
   "mimetype": "text/x-python",
   "name": "python",
   "nbconvert_exporter": "python",
   "pygments_lexer": "ipython3",
   "version": "3.6.6"
  }
 },
 "nbformat": 4,
 "nbformat_minor": 2
}
